{
  "nbformat": 4,
  "nbformat_minor": 0,
  "metadata": {
    "colab": {
      "name": "Labo Regression.ipynb",
      "provenance": [],
      "collapsed_sections": [
        "E9y7xHgPgIKa"
      ],
      "toc_visible": true,
      "authorship_tag": "ABX9TyOU/QG9O7PO/HYUn18ocrxn",
      "include_colab_link": true
    },
    "kernelspec": {
      "name": "python3",
      "display_name": "Python 3"
    }
  },
  "cells": [
    {
      "cell_type": "markdown",
      "metadata": {
        "id": "view-in-github",
        "colab_type": "text"
      },
      "source": [
        "<a href=\"https://colab.research.google.com/github/ousdiallo/Projet-ML/blob/main/Labo_Regression.ipynb\" target=\"_parent\"><img src=\"https://colab.research.google.com/assets/colab-badge.svg\" alt=\"Open In Colab\"/></a>"
      ]
    },
    {
      "cell_type": "markdown",
      "metadata": {
        "id": "wwtF9V36T1AR"
      },
      "source": [
        "Groupe 11:\r\n",
        "\r\n",
        "Ousmane Diallo et\r\n",
        "Hermann Some"
      ]
    },
    {
      "cell_type": "markdown",
      "metadata": {
        "id": "n25ZJRSUKlow"
      },
      "source": [
        "# La pratique de la Régression"
      ]
    },
    {
      "cell_type": "markdown",
      "metadata": {
        "id": "443Qo-xsJ5e2"
      },
      "source": [
        "L’objectif  de  ce  projet  est  de  travailler  sur  le  jeu  de  données  (modiﬁées) The  Boston Housing Dataset aﬁn de prédire le prix d’un appartement. Une description du jeu de données \r\n",
        "initial  est  disponible  [ici](https://www.cs.toronto.edu/~delve/data/boston/bostonDetail.html)  Pour  ce  projet,  nous  modiﬁons  ce  dernier  en  rajoutant  variables \r\n",
        "indépendantes. Les données, sur lesquels nous travaillerons, sont disponible [ici](https://drive.google.com/drive/folders/1rj7Y9xn3JF5q3cRFjVoxOrQCm3F_PPUX?usp=sharing). \r\n",
        "Il s’agira en particulier de mettre en œuvre, avec Python, et de comparer les performances \r\n",
        "de ces trois méthodes Statistiques : \r\n",
        "\r\n",
        "   1.  la régression linéaire multiple ; \r\n",
        "\r\n",
        "   2.  la méthode de sélection de variable pas-à-pas descendante ; \r\n",
        "\r\n",
        "   3.  la régression Ridge ; \r\n",
        "\r\n",
        "   4. la régression LASSO. "
      ]
    },
    {
      "cell_type": "markdown",
      "metadata": {
        "id": "lxAzVb5et8a1"
      },
      "source": [
        "## Importation des librairies"
      ]
    },
    {
      "cell_type": "code",
      "metadata": {
        "id": "aCisoeBHKkIc",
        "colab": {
          "base_uri": "https://localhost:8080/"
        },
        "outputId": "6600c37d-3f98-4556-cd84-460a91e2a0b3"
      },
      "source": [
        "# Data Manipulation\r\n",
        "import numpy as np\r\n",
        "import pandas as pd\r\n",
        "\r\n",
        "\r\n",
        "# Import Dependencies\r\n",
        "%matplotlib inline\r\n",
        "\r\n",
        "# Visualization \r\n",
        "import matplotlib.pyplot as plt\r\n",
        "import missingno\r\n",
        "import seaborn as sns\r\n",
        "plt.style.use('seaborn-whitegrid')\r\n",
        "\r\n",
        "# Machine Learning\r\n",
        "from sklearn import linear_model\r\n",
        "from sklearn.model_selection import train_test_split\r\n",
        "from sklearn.metrics import mean_squared_error\r\n",
        "from sklearn.metrics import r2_score, mean_absolute_error\r\n",
        "\r\n",
        "from sklearn.feature_selection import SelectKBest\r\n",
        "from sklearn.feature_selection import chi2, f_classif\r\n",
        "import statsmodels.api as sm\r\n",
        "\r\n",
        "# Normalisation\r\n",
        "from sklearn.preprocessing import StandardScaler"
      ],
      "execution_count": 1,
      "outputs": [
        {
          "output_type": "stream",
          "text": [
            "/usr/local/lib/python3.7/dist-packages/statsmodels/tools/_testing.py:19: FutureWarning: pandas.util.testing is deprecated. Use the functions in the public API at pandas.testing instead.\n",
            "  import pandas.util.testing as tm\n"
          ],
          "name": "stderr"
        }
      ]
    },
    {
      "cell_type": "markdown",
      "metadata": {
        "id": "qkcdjW9IWam9"
      },
      "source": [
        "## Importation des données"
      ]
    },
    {
      "cell_type": "code",
      "metadata": {
        "id": "j3qNs-fDufks",
        "colab": {
          "base_uri": "https://localhost:8080/",
          "height": 204
        },
        "outputId": "75c86a99-447f-4fca-e4fe-dc8ebee866a1"
      },
      "source": [
        "# Importation de la base de données\r\n",
        "\r\n",
        "data = pd.read_csv('Boston_Data.csv')\r\n",
        "data.head()"
      ],
      "execution_count": 2,
      "outputs": [
        {
          "output_type": "execute_result",
          "data": {
            "text/html": [
              "<div>\n",
              "<style scoped>\n",
              "    .dataframe tbody tr th:only-of-type {\n",
              "        vertical-align: middle;\n",
              "    }\n",
              "\n",
              "    .dataframe tbody tr th {\n",
              "        vertical-align: top;\n",
              "    }\n",
              "\n",
              "    .dataframe thead th {\n",
              "        text-align: right;\n",
              "    }\n",
              "</style>\n",
              "<table border=\"1\" class=\"dataframe\">\n",
              "  <thead>\n",
              "    <tr style=\"text-align: right;\">\n",
              "      <th></th>\n",
              "      <th>Unnamed: 0</th>\n",
              "      <th>R1</th>\n",
              "      <th>R2</th>\n",
              "      <th>R3</th>\n",
              "      <th>R4</th>\n",
              "      <th>R5</th>\n",
              "      <th>X1</th>\n",
              "      <th>X2</th>\n",
              "      <th>X3</th>\n",
              "      <th>X4</th>\n",
              "      <th>X5</th>\n",
              "      <th>X6</th>\n",
              "      <th>X7</th>\n",
              "      <th>X8</th>\n",
              "      <th>X9</th>\n",
              "      <th>X10</th>\n",
              "      <th>X11</th>\n",
              "      <th>X12</th>\n",
              "      <th>X13</th>\n",
              "      <th>Y</th>\n",
              "    </tr>\n",
              "  </thead>\n",
              "  <tbody>\n",
              "    <tr>\n",
              "      <th>0</th>\n",
              "      <td>0</td>\n",
              "      <td>-0.21</td>\n",
              "      <td>0.11</td>\n",
              "      <td>-0.65</td>\n",
              "      <td>-0.54</td>\n",
              "      <td>1.48</td>\n",
              "      <td>0.00632</td>\n",
              "      <td>18.0</td>\n",
              "      <td>2.31</td>\n",
              "      <td>0</td>\n",
              "      <td>0.538</td>\n",
              "      <td>6.575</td>\n",
              "      <td>65.2</td>\n",
              "      <td>4.0900</td>\n",
              "      <td>1</td>\n",
              "      <td>296</td>\n",
              "      <td>15.3</td>\n",
              "      <td>396.90</td>\n",
              "      <td>4.98</td>\n",
              "      <td>24.0</td>\n",
              "    </tr>\n",
              "    <tr>\n",
              "      <th>1</th>\n",
              "      <td>1</td>\n",
              "      <td>0.08</td>\n",
              "      <td>-0.61</td>\n",
              "      <td>-0.85</td>\n",
              "      <td>-0.36</td>\n",
              "      <td>-0.12</td>\n",
              "      <td>0.02731</td>\n",
              "      <td>0.0</td>\n",
              "      <td>7.07</td>\n",
              "      <td>0</td>\n",
              "      <td>0.469</td>\n",
              "      <td>6.421</td>\n",
              "      <td>78.9</td>\n",
              "      <td>4.9671</td>\n",
              "      <td>2</td>\n",
              "      <td>242</td>\n",
              "      <td>17.8</td>\n",
              "      <td>396.90</td>\n",
              "      <td>9.14</td>\n",
              "      <td>21.6</td>\n",
              "    </tr>\n",
              "    <tr>\n",
              "      <th>2</th>\n",
              "      <td>2</td>\n",
              "      <td>-1.32</td>\n",
              "      <td>0.95</td>\n",
              "      <td>-0.75</td>\n",
              "      <td>-0.99</td>\n",
              "      <td>-0.36</td>\n",
              "      <td>0.02729</td>\n",
              "      <td>0.0</td>\n",
              "      <td>7.07</td>\n",
              "      <td>0</td>\n",
              "      <td>0.469</td>\n",
              "      <td>7.185</td>\n",
              "      <td>61.1</td>\n",
              "      <td>4.9671</td>\n",
              "      <td>2</td>\n",
              "      <td>242</td>\n",
              "      <td>17.8</td>\n",
              "      <td>392.83</td>\n",
              "      <td>4.03</td>\n",
              "      <td>34.7</td>\n",
              "    </tr>\n",
              "    <tr>\n",
              "      <th>3</th>\n",
              "      <td>3</td>\n",
              "      <td>0.23</td>\n",
              "      <td>-0.10</td>\n",
              "      <td>-0.43</td>\n",
              "      <td>1.58</td>\n",
              "      <td>0.00</td>\n",
              "      <td>0.03237</td>\n",
              "      <td>0.0</td>\n",
              "      <td>2.18</td>\n",
              "      <td>0</td>\n",
              "      <td>0.458</td>\n",
              "      <td>6.998</td>\n",
              "      <td>45.8</td>\n",
              "      <td>6.0622</td>\n",
              "      <td>3</td>\n",
              "      <td>222</td>\n",
              "      <td>18.7</td>\n",
              "      <td>394.63</td>\n",
              "      <td>2.94</td>\n",
              "      <td>33.4</td>\n",
              "    </tr>\n",
              "    <tr>\n",
              "      <th>4</th>\n",
              "      <td>4</td>\n",
              "      <td>-1.67</td>\n",
              "      <td>1.49</td>\n",
              "      <td>0.41</td>\n",
              "      <td>0.63</td>\n",
              "      <td>-0.87</td>\n",
              "      <td>0.06905</td>\n",
              "      <td>0.0</td>\n",
              "      <td>2.18</td>\n",
              "      <td>0</td>\n",
              "      <td>0.458</td>\n",
              "      <td>7.147</td>\n",
              "      <td>54.2</td>\n",
              "      <td>6.0622</td>\n",
              "      <td>3</td>\n",
              "      <td>222</td>\n",
              "      <td>18.7</td>\n",
              "      <td>396.90</td>\n",
              "      <td>5.33</td>\n",
              "      <td>36.2</td>\n",
              "    </tr>\n",
              "  </tbody>\n",
              "</table>\n",
              "</div>"
            ],
            "text/plain": [
              "   Unnamed: 0    R1    R2    R3    R4    R5  ...  X9  X10   X11     X12   X13     Y\n",
              "0           0 -0.21  0.11 -0.65 -0.54  1.48  ...   1  296  15.3  396.90  4.98  24.0\n",
              "1           1  0.08 -0.61 -0.85 -0.36 -0.12  ...   2  242  17.8  396.90  9.14  21.6\n",
              "2           2 -1.32  0.95 -0.75 -0.99 -0.36  ...   2  242  17.8  392.83  4.03  34.7\n",
              "3           3  0.23 -0.10 -0.43  1.58  0.00  ...   3  222  18.7  394.63  2.94  33.4\n",
              "4           4 -1.67  1.49  0.41  0.63 -0.87  ...   3  222  18.7  396.90  5.33  36.2\n",
              "\n",
              "[5 rows x 20 columns]"
            ]
          },
          "metadata": {
            "tags": []
          },
          "execution_count": 2
        }
      ]
    },
    {
      "cell_type": "code",
      "metadata": {
        "colab": {
          "base_uri": "https://localhost:8080/",
          "height": 204
        },
        "id": "hLFtPjjmvIpT",
        "outputId": "0bdb13bc-8cb4-406d-c3e4-5028c1a621a3"
      },
      "source": [
        "df = data.drop(\"Unnamed: 0\", axis=1)\r\n",
        "df.head()"
      ],
      "execution_count": 3,
      "outputs": [
        {
          "output_type": "execute_result",
          "data": {
            "text/html": [
              "<div>\n",
              "<style scoped>\n",
              "    .dataframe tbody tr th:only-of-type {\n",
              "        vertical-align: middle;\n",
              "    }\n",
              "\n",
              "    .dataframe tbody tr th {\n",
              "        vertical-align: top;\n",
              "    }\n",
              "\n",
              "    .dataframe thead th {\n",
              "        text-align: right;\n",
              "    }\n",
              "</style>\n",
              "<table border=\"1\" class=\"dataframe\">\n",
              "  <thead>\n",
              "    <tr style=\"text-align: right;\">\n",
              "      <th></th>\n",
              "      <th>R1</th>\n",
              "      <th>R2</th>\n",
              "      <th>R3</th>\n",
              "      <th>R4</th>\n",
              "      <th>R5</th>\n",
              "      <th>X1</th>\n",
              "      <th>X2</th>\n",
              "      <th>X3</th>\n",
              "      <th>X4</th>\n",
              "      <th>X5</th>\n",
              "      <th>X6</th>\n",
              "      <th>X7</th>\n",
              "      <th>X8</th>\n",
              "      <th>X9</th>\n",
              "      <th>X10</th>\n",
              "      <th>X11</th>\n",
              "      <th>X12</th>\n",
              "      <th>X13</th>\n",
              "      <th>Y</th>\n",
              "    </tr>\n",
              "  </thead>\n",
              "  <tbody>\n",
              "    <tr>\n",
              "      <th>0</th>\n",
              "      <td>-0.21</td>\n",
              "      <td>0.11</td>\n",
              "      <td>-0.65</td>\n",
              "      <td>-0.54</td>\n",
              "      <td>1.48</td>\n",
              "      <td>0.00632</td>\n",
              "      <td>18.0</td>\n",
              "      <td>2.31</td>\n",
              "      <td>0</td>\n",
              "      <td>0.538</td>\n",
              "      <td>6.575</td>\n",
              "      <td>65.2</td>\n",
              "      <td>4.0900</td>\n",
              "      <td>1</td>\n",
              "      <td>296</td>\n",
              "      <td>15.3</td>\n",
              "      <td>396.90</td>\n",
              "      <td>4.98</td>\n",
              "      <td>24.0</td>\n",
              "    </tr>\n",
              "    <tr>\n",
              "      <th>1</th>\n",
              "      <td>0.08</td>\n",
              "      <td>-0.61</td>\n",
              "      <td>-0.85</td>\n",
              "      <td>-0.36</td>\n",
              "      <td>-0.12</td>\n",
              "      <td>0.02731</td>\n",
              "      <td>0.0</td>\n",
              "      <td>7.07</td>\n",
              "      <td>0</td>\n",
              "      <td>0.469</td>\n",
              "      <td>6.421</td>\n",
              "      <td>78.9</td>\n",
              "      <td>4.9671</td>\n",
              "      <td>2</td>\n",
              "      <td>242</td>\n",
              "      <td>17.8</td>\n",
              "      <td>396.90</td>\n",
              "      <td>9.14</td>\n",
              "      <td>21.6</td>\n",
              "    </tr>\n",
              "    <tr>\n",
              "      <th>2</th>\n",
              "      <td>-1.32</td>\n",
              "      <td>0.95</td>\n",
              "      <td>-0.75</td>\n",
              "      <td>-0.99</td>\n",
              "      <td>-0.36</td>\n",
              "      <td>0.02729</td>\n",
              "      <td>0.0</td>\n",
              "      <td>7.07</td>\n",
              "      <td>0</td>\n",
              "      <td>0.469</td>\n",
              "      <td>7.185</td>\n",
              "      <td>61.1</td>\n",
              "      <td>4.9671</td>\n",
              "      <td>2</td>\n",
              "      <td>242</td>\n",
              "      <td>17.8</td>\n",
              "      <td>392.83</td>\n",
              "      <td>4.03</td>\n",
              "      <td>34.7</td>\n",
              "    </tr>\n",
              "    <tr>\n",
              "      <th>3</th>\n",
              "      <td>0.23</td>\n",
              "      <td>-0.10</td>\n",
              "      <td>-0.43</td>\n",
              "      <td>1.58</td>\n",
              "      <td>0.00</td>\n",
              "      <td>0.03237</td>\n",
              "      <td>0.0</td>\n",
              "      <td>2.18</td>\n",
              "      <td>0</td>\n",
              "      <td>0.458</td>\n",
              "      <td>6.998</td>\n",
              "      <td>45.8</td>\n",
              "      <td>6.0622</td>\n",
              "      <td>3</td>\n",
              "      <td>222</td>\n",
              "      <td>18.7</td>\n",
              "      <td>394.63</td>\n",
              "      <td>2.94</td>\n",
              "      <td>33.4</td>\n",
              "    </tr>\n",
              "    <tr>\n",
              "      <th>4</th>\n",
              "      <td>-1.67</td>\n",
              "      <td>1.49</td>\n",
              "      <td>0.41</td>\n",
              "      <td>0.63</td>\n",
              "      <td>-0.87</td>\n",
              "      <td>0.06905</td>\n",
              "      <td>0.0</td>\n",
              "      <td>2.18</td>\n",
              "      <td>0</td>\n",
              "      <td>0.458</td>\n",
              "      <td>7.147</td>\n",
              "      <td>54.2</td>\n",
              "      <td>6.0622</td>\n",
              "      <td>3</td>\n",
              "      <td>222</td>\n",
              "      <td>18.7</td>\n",
              "      <td>396.90</td>\n",
              "      <td>5.33</td>\n",
              "      <td>36.2</td>\n",
              "    </tr>\n",
              "  </tbody>\n",
              "</table>\n",
              "</div>"
            ],
            "text/plain": [
              "     R1    R2    R3    R4    R5       X1  ...  X9  X10   X11     X12   X13     Y\n",
              "0 -0.21  0.11 -0.65 -0.54  1.48  0.00632  ...   1  296  15.3  396.90  4.98  24.0\n",
              "1  0.08 -0.61 -0.85 -0.36 -0.12  0.02731  ...   2  242  17.8  396.90  9.14  21.6\n",
              "2 -1.32  0.95 -0.75 -0.99 -0.36  0.02729  ...   2  242  17.8  392.83  4.03  34.7\n",
              "3  0.23 -0.10 -0.43  1.58  0.00  0.03237  ...   3  222  18.7  394.63  2.94  33.4\n",
              "4 -1.67  1.49  0.41  0.63 -0.87  0.06905  ...   3  222  18.7  396.90  5.33  36.2\n",
              "\n",
              "[5 rows x 19 columns]"
            ]
          },
          "metadata": {
            "tags": []
          },
          "execution_count": 3
        }
      ]
    },
    {
      "cell_type": "markdown",
      "metadata": {
        "id": "ZjERstiew1vy"
      },
      "source": [
        "## EDA"
      ]
    },
    {
      "cell_type": "code",
      "metadata": {
        "colab": {
          "base_uri": "https://localhost:8080/"
        },
        "id": "gIPjXjVIw4fk",
        "outputId": "52efa5f5-e575-4e73-fe13-3f4338a2b83a"
      },
      "source": [
        "# Séparation des données en Appratissage et Test\r\n",
        "\r\n",
        "X = df.drop(\"Y\", axis = 1)\r\n",
        "y = df.Y\r\n",
        "\r\n",
        "print(X.shape, y.shape)"
      ],
      "execution_count": 4,
      "outputs": [
        {
          "output_type": "stream",
          "text": [
            "(506, 18) (506,)\n"
          ],
          "name": "stdout"
        }
      ]
    },
    {
      "cell_type": "code",
      "metadata": {
        "colab": {
          "base_uri": "https://localhost:8080/",
          "height": 317
        },
        "id": "wyB_CM0TzrF7",
        "outputId": "76151e08-fbd5-4129-a734-7fd98bb84900"
      },
      "source": [
        "X.describe()"
      ],
      "execution_count": null,
      "outputs": [
        {
          "output_type": "execute_result",
          "data": {
            "text/html": [
              "<div>\n",
              "<style scoped>\n",
              "    .dataframe tbody tr th:only-of-type {\n",
              "        vertical-align: middle;\n",
              "    }\n",
              "\n",
              "    .dataframe tbody tr th {\n",
              "        vertical-align: top;\n",
              "    }\n",
              "\n",
              "    .dataframe thead th {\n",
              "        text-align: right;\n",
              "    }\n",
              "</style>\n",
              "<table border=\"1\" class=\"dataframe\">\n",
              "  <thead>\n",
              "    <tr style=\"text-align: right;\">\n",
              "      <th></th>\n",
              "      <th>R1</th>\n",
              "      <th>R2</th>\n",
              "      <th>R3</th>\n",
              "      <th>R4</th>\n",
              "      <th>R5</th>\n",
              "      <th>X1</th>\n",
              "      <th>X2</th>\n",
              "      <th>X3</th>\n",
              "      <th>X4</th>\n",
              "      <th>X5</th>\n",
              "      <th>X6</th>\n",
              "      <th>X7</th>\n",
              "      <th>X8</th>\n",
              "      <th>X9</th>\n",
              "      <th>X10</th>\n",
              "      <th>X11</th>\n",
              "      <th>X12</th>\n",
              "      <th>X13</th>\n",
              "    </tr>\n",
              "  </thead>\n",
              "  <tbody>\n",
              "    <tr>\n",
              "      <th>count</th>\n",
              "      <td>506.000000</td>\n",
              "      <td>506.000000</td>\n",
              "      <td>506.000000</td>\n",
              "      <td>506.000000</td>\n",
              "      <td>506.000000</td>\n",
              "      <td>506.000000</td>\n",
              "      <td>506.000000</td>\n",
              "      <td>506.000000</td>\n",
              "      <td>506.000000</td>\n",
              "      <td>506.000000</td>\n",
              "      <td>506.000000</td>\n",
              "      <td>506.000000</td>\n",
              "      <td>506.000000</td>\n",
              "      <td>506.000000</td>\n",
              "      <td>506.000000</td>\n",
              "      <td>506.000000</td>\n",
              "      <td>506.000000</td>\n",
              "      <td>506.000000</td>\n",
              "    </tr>\n",
              "    <tr>\n",
              "      <th>mean</th>\n",
              "      <td>-0.007826</td>\n",
              "      <td>-0.000613</td>\n",
              "      <td>-0.026858</td>\n",
              "      <td>-0.002154</td>\n",
              "      <td>-0.037372</td>\n",
              "      <td>3.613524</td>\n",
              "      <td>11.363636</td>\n",
              "      <td>11.136779</td>\n",
              "      <td>0.069170</td>\n",
              "      <td>0.554695</td>\n",
              "      <td>6.284634</td>\n",
              "      <td>68.574901</td>\n",
              "      <td>3.795043</td>\n",
              "      <td>9.549407</td>\n",
              "      <td>408.237154</td>\n",
              "      <td>18.455534</td>\n",
              "      <td>356.674032</td>\n",
              "      <td>12.653063</td>\n",
              "    </tr>\n",
              "    <tr>\n",
              "      <th>std</th>\n",
              "      <td>0.953537</td>\n",
              "      <td>0.970349</td>\n",
              "      <td>0.953501</td>\n",
              "      <td>1.038352</td>\n",
              "      <td>1.042602</td>\n",
              "      <td>8.601545</td>\n",
              "      <td>23.322453</td>\n",
              "      <td>6.860353</td>\n",
              "      <td>0.253994</td>\n",
              "      <td>0.115878</td>\n",
              "      <td>0.702617</td>\n",
              "      <td>28.148861</td>\n",
              "      <td>2.105710</td>\n",
              "      <td>8.707259</td>\n",
              "      <td>168.537116</td>\n",
              "      <td>2.164946</td>\n",
              "      <td>91.294864</td>\n",
              "      <td>7.141062</td>\n",
              "    </tr>\n",
              "    <tr>\n",
              "      <th>min</th>\n",
              "      <td>-2.910000</td>\n",
              "      <td>-2.290000</td>\n",
              "      <td>-2.710000</td>\n",
              "      <td>-3.190000</td>\n",
              "      <td>-2.660000</td>\n",
              "      <td>0.006320</td>\n",
              "      <td>0.000000</td>\n",
              "      <td>0.460000</td>\n",
              "      <td>0.000000</td>\n",
              "      <td>0.385000</td>\n",
              "      <td>3.561000</td>\n",
              "      <td>2.900000</td>\n",
              "      <td>1.129600</td>\n",
              "      <td>1.000000</td>\n",
              "      <td>187.000000</td>\n",
              "      <td>12.600000</td>\n",
              "      <td>0.320000</td>\n",
              "      <td>1.730000</td>\n",
              "    </tr>\n",
              "    <tr>\n",
              "      <th>25%</th>\n",
              "      <td>-0.597500</td>\n",
              "      <td>-0.680000</td>\n",
              "      <td>-0.617500</td>\n",
              "      <td>-0.770000</td>\n",
              "      <td>-0.807500</td>\n",
              "      <td>0.082045</td>\n",
              "      <td>0.000000</td>\n",
              "      <td>5.190000</td>\n",
              "      <td>0.000000</td>\n",
              "      <td>0.449000</td>\n",
              "      <td>5.885500</td>\n",
              "      <td>45.025000</td>\n",
              "      <td>2.100175</td>\n",
              "      <td>4.000000</td>\n",
              "      <td>279.000000</td>\n",
              "      <td>17.400000</td>\n",
              "      <td>375.377500</td>\n",
              "      <td>6.950000</td>\n",
              "    </tr>\n",
              "    <tr>\n",
              "      <th>50%</th>\n",
              "      <td>0.015000</td>\n",
              "      <td>-0.025000</td>\n",
              "      <td>0.005000</td>\n",
              "      <td>0.000000</td>\n",
              "      <td>-0.090000</td>\n",
              "      <td>0.256510</td>\n",
              "      <td>0.000000</td>\n",
              "      <td>9.690000</td>\n",
              "      <td>0.000000</td>\n",
              "      <td>0.538000</td>\n",
              "      <td>6.208500</td>\n",
              "      <td>77.500000</td>\n",
              "      <td>3.207450</td>\n",
              "      <td>5.000000</td>\n",
              "      <td>330.000000</td>\n",
              "      <td>19.050000</td>\n",
              "      <td>391.440000</td>\n",
              "      <td>11.360000</td>\n",
              "    </tr>\n",
              "    <tr>\n",
              "      <th>75%</th>\n",
              "      <td>0.670000</td>\n",
              "      <td>0.650000</td>\n",
              "      <td>0.590000</td>\n",
              "      <td>0.697500</td>\n",
              "      <td>0.687500</td>\n",
              "      <td>3.677083</td>\n",
              "      <td>12.500000</td>\n",
              "      <td>18.100000</td>\n",
              "      <td>0.000000</td>\n",
              "      <td>0.624000</td>\n",
              "      <td>6.623500</td>\n",
              "      <td>94.075000</td>\n",
              "      <td>5.188425</td>\n",
              "      <td>24.000000</td>\n",
              "      <td>666.000000</td>\n",
              "      <td>20.200000</td>\n",
              "      <td>396.225000</td>\n",
              "      <td>16.955000</td>\n",
              "    </tr>\n",
              "    <tr>\n",
              "      <th>max</th>\n",
              "      <td>2.380000</td>\n",
              "      <td>3.180000</td>\n",
              "      <td>2.460000</td>\n",
              "      <td>2.930000</td>\n",
              "      <td>3.890000</td>\n",
              "      <td>88.976200</td>\n",
              "      <td>100.000000</td>\n",
              "      <td>27.740000</td>\n",
              "      <td>1.000000</td>\n",
              "      <td>0.871000</td>\n",
              "      <td>8.780000</td>\n",
              "      <td>100.000000</td>\n",
              "      <td>12.126500</td>\n",
              "      <td>24.000000</td>\n",
              "      <td>711.000000</td>\n",
              "      <td>22.000000</td>\n",
              "      <td>396.900000</td>\n",
              "      <td>37.970000</td>\n",
              "    </tr>\n",
              "  </tbody>\n",
              "</table>\n",
              "</div>"
            ],
            "text/plain": [
              "               R1          R2          R3  ...         X11         X12         X13\n",
              "count  506.000000  506.000000  506.000000  ...  506.000000  506.000000  506.000000\n",
              "mean    -0.007826   -0.000613   -0.026858  ...   18.455534  356.674032   12.653063\n",
              "std      0.953537    0.970349    0.953501  ...    2.164946   91.294864    7.141062\n",
              "min     -2.910000   -2.290000   -2.710000  ...   12.600000    0.320000    1.730000\n",
              "25%     -0.597500   -0.680000   -0.617500  ...   17.400000  375.377500    6.950000\n",
              "50%      0.015000   -0.025000    0.005000  ...   19.050000  391.440000   11.360000\n",
              "75%      0.670000    0.650000    0.590000  ...   20.200000  396.225000   16.955000\n",
              "max      2.380000    3.180000    2.460000  ...   22.000000  396.900000   37.970000\n",
              "\n",
              "[8 rows x 18 columns]"
            ]
          },
          "metadata": {
            "tags": []
          },
          "execution_count": 6
        }
      ]
    },
    {
      "cell_type": "code",
      "metadata": {
        "colab": {
          "base_uri": "https://localhost:8080/",
          "height": 556
        },
        "id": "C-hdTOYWxl1b",
        "outputId": "e1f85a9e-4550-49dc-8895-b20895ce83e1"
      },
      "source": [
        "# Appercu de la variable Y (Prix d' un appartement)\r\n",
        "sns.set(rc={'figure.figsize':(12,8)})\r\n",
        "sns.distplot(y)\r\n",
        "plt.xlabel(\"Prix d'un appartement\")\r\n",
        "plt.show()"
      ],
      "execution_count": 5,
      "outputs": [
        {
          "output_type": "stream",
          "text": [
            "/usr/local/lib/python3.7/dist-packages/seaborn/distributions.py:2557: FutureWarning: `distplot` is a deprecated function and will be removed in a future version. Please adapt your code to use either `displot` (a figure-level function with similar flexibility) or `histplot` (an axes-level function for histograms).\n",
            "  warnings.warn(msg, FutureWarning)\n"
          ],
          "name": "stderr"
        },
        {
          "output_type": "display_data",
          "data": {
            "image/png": "[encoded data removed]",
            "text/plain": [
              "<Figure size 864x576 with 1 Axes>"
            ]
          },
          "metadata": {
            "tags": []
          }
        }
      ]
    },
    {
      "cell_type": "markdown",
      "metadata": {
        "id": "fUleMRd0K1nP"
      },
      "source": [
        "## 1. La régression linéaire multiple\r\n",
        "\r\n",
        "Le modèle de régression linéaire est utilisé pour étudier la relation entre une variable dépendante et une ou plusieurs variables indépendantes. La forme générique du modèle de régression linéaire est:\r\n",
        "y=x1β1 + x2β2 +..+ xKβK + ε\r\n",
        "où y est la variable dépendante ou expliquée et x1, .., xK sont les variables explicatives ou indépendantes.\r\n",
        "\r\n",
        "Disposant d’un échantillon de taille n,  nous cherchons les paramètres estimés  â = (â0, â1, …, âp) qui minimise l’erreur  quadratique moyenne (MSE : mean  squared error).\r\n",
        "\r\n",
        "\r\n",
        "Les résultats obtenus avec le modèle linéaire sont valides si les hypothèses qui ont été faites le sont :\r\n",
        "1. E(Y ) = Xθ qui est équivalent à E(E) = 0,\r\n",
        "2. V(Ei) = σ2, ∀i = 1, n,\r\n",
        "3. les variables aléatoires Ei sont indépendantes,\r\n",
        "4. Ei ∼ N (0, σ2), ∀i = 1, n.\r\n"
      ]
    },
    {
      "cell_type": "markdown",
      "metadata": {
        "id": "aVZHxRbD0hlt"
      },
      "source": [
        "### Normalisation des données"
      ]
    },
    {
      "cell_type": "code",
      "metadata": {
        "id": "idh9fLvV0c9F"
      },
      "source": [
        "# Construction des échantillons Appratissage et Test\r\n",
        "\r\n",
        "X_train_i, X_test_i, y_train, y_test = train_test_split(X, y, test_size=0.25, random_state=42)\r\n"
      ],
      "execution_count": 56,
      "outputs": []
    },
    {
      "cell_type": "code",
      "metadata": {
        "id": "V_cTWIqv1Ylq",
        "colab": {
          "base_uri": "https://localhost:8080/"
        },
        "outputId": "71ad8214-6d0c-40a5-e229-fff16e1cd6d7"
      },
      "source": [
        "# Centrer et réduire les données sur les paramètres de la moyenne et de la variance de X_train\r\n",
        "scaler = StandardScaler()\r\n",
        "X_train = scaler.fit_transform(X_train_i)\r\n",
        "X_test = scaler.transform(X_test_i)\r\n",
        "\r\n",
        "X_train.shape, X_test.shape"
      ],
      "execution_count": 57,
      "outputs": [
        {
          "output_type": "execute_result",
          "data": {
            "text/plain": [
              "((379, 18), (127, 18))"
            ]
          },
          "metadata": {
            "tags": []
          },
          "execution_count": 57
        }
      ]
    },
    {
      "cell_type": "markdown",
      "metadata": {
        "id": "qGpymjcYvYHq"
      },
      "source": [
        "## Apprentissage et Prédiction"
      ]
    },
    {
      "cell_type": "code",
      "metadata": {
        "id": "k38o7l4V2iQA"
      },
      "source": [
        "# Apprentissage et prédiction\r\n",
        "model = linear_model.LinearRegression()\r\n",
        "trained_model = model.fit(X_train, y_train)"
      ],
      "execution_count": 86,
      "outputs": []
    },
    {
      "cell_type": "code",
      "metadata": {
        "colab": {
          "base_uri": "https://localhost:8080/"
        },
        "id": "8U6_cSfeZwil",
        "outputId": "e6c739ed-bbf0-421a-99f6-0786ac164b1a"
      },
      "source": [
        "# Vérification des coéficients de régression\r\n",
        "\r\n",
        "trained_model.coef_, trained_model.intercept_"
      ],
      "execution_count": 87,
      "outputs": [
        {
          "output_type": "execute_result",
          "data": {
            "text/plain": [
              "(array([ 0.2121433 , -0.24143259, -0.03389776,  0.35166886, -0.31447542,\n",
              "        -1.00442227,  0.76544361,  0.37946261,  0.6948808 , -1.97764592,\n",
              "         3.20934494, -0.22682162, -2.97697421,  2.138986  , -1.60190472,\n",
              "        -2.10399132,  1.17667072, -3.61235447]), 22.90791556728232)"
            ]
          },
          "metadata": {
            "tags": []
          },
          "execution_count": 87
        }
      ]
    },
    {
      "cell_type": "code",
      "metadata": {
        "colab": {
          "base_uri": "https://localhost:8080/",
          "height": 111
        },
        "id": "5Bd57eGr3TUv",
        "outputId": "bc867dc2-6c9a-438c-fc90-1dfb1947a2bc"
      },
      "source": [
        "# Prédiction\r\n",
        "\r\n",
        "from sklearn.metrics import r2_score\r\n",
        "\r\n",
        "y_pred_train = model.predict(X_train)\r\n",
        "y_pred_test = model.predict(X_test)\r\n",
        "\r\n",
        "#R2_train = model.score(X_train, y_train)\r\n",
        "#R2_test = model.score(X_test, y_test)\r\n",
        "\r\n",
        "R2_train = r2_score(y_train, y_pred_train)\r\n",
        "R2_test = r2_score(y_test, y_pred_test)\r\n",
        "\r\n",
        "\r\n",
        "RMSE_train = np.sqrt(mean_squared_error(y_train, y_pred_train))\r\n",
        "RMSE_test = np.sqrt(mean_squared_error(y_test, y_pred_test))\r\n",
        "\r\n",
        "model_perf = {\"Data\": ['train', 'test'], 'R2': [R2_train, R2_test], 'RMSE': [RMSE_train, RMSE_test]}\r\n",
        "model_perf = pd.DataFrame(model_perf, columns=[\"Data\", \"R2\", \"RMSE\"])\r\n",
        "model_perf"
      ],
      "execution_count": 108,
      "outputs": [
        {
          "output_type": "execute_result",
          "data": {
            "text/html": [
              "<div>\n",
              "<style scoped>\n",
              "    .dataframe tbody tr th:only-of-type {\n",
              "        vertical-align: middle;\n",
              "    }\n",
              "\n",
              "    .dataframe tbody tr th {\n",
              "        vertical-align: top;\n",
              "    }\n",
              "\n",
              "    .dataframe thead th {\n",
              "        text-align: right;\n",
              "    }\n",
              "</style>\n",
              "<table border=\"1\" class=\"dataframe\">\n",
              "  <thead>\n",
              "    <tr style=\"text-align: right;\">\n",
              "      <th></th>\n",
              "      <th>Data</th>\n",
              "      <th>R2</th>\n",
              "      <th>RMSE</th>\n",
              "    </tr>\n",
              "  </thead>\n",
              "  <tbody>\n",
              "    <tr>\n",
              "      <th>0</th>\n",
              "      <td>train</td>\n",
              "      <td>0.751239</td>\n",
              "      <td>4.696865</td>\n",
              "    </tr>\n",
              "    <tr>\n",
              "      <th>1</th>\n",
              "      <td>test</td>\n",
              "      <td>0.680755</td>\n",
              "      <td>4.728196</td>\n",
              "    </tr>\n",
              "  </tbody>\n",
              "</table>\n",
              "</div>"
            ],
            "text/plain": [
              "    Data        R2      RMSE\n",
              "0  train  0.751239  4.696865\n",
              "1   test  0.680755  4.728196"
            ]
          },
          "metadata": {
            "tags": []
          },
          "execution_count": 108
        }
      ]
    },
    {
      "cell_type": "code",
      "metadata": {
        "colab": {
          "base_uri": "https://localhost:8080/",
          "height": 419
        },
        "id": "6-c9Nx6g6X9C",
        "outputId": "ffde1f2d-5c75-4c07-f2e7-f79ab478586d"
      },
      "source": [
        "# Calcul des résidus\r\n",
        "\r\n",
        "residual = pd.DataFrame(np.c_[y_train, y_pred_train], columns = [\"Value\", \"Predicted\"])\r\n",
        "residual[\"Residues\"] = abs(residual[\"Value\"]) - abs(residual[\"Predicted\"])\r\n",
        "residual"
      ],
      "execution_count": 14,
      "outputs": [
        {
          "output_type": "execute_result",
          "data": {
            "text/html": [
              "<div>\n",
              "<style scoped>\n",
              "    .dataframe tbody tr th:only-of-type {\n",
              "        vertical-align: middle;\n",
              "    }\n",
              "\n",
              "    .dataframe tbody tr th {\n",
              "        vertical-align: top;\n",
              "    }\n",
              "\n",
              "    .dataframe thead th {\n",
              "        text-align: right;\n",
              "    }\n",
              "</style>\n",
              "<table border=\"1\" class=\"dataframe\">\n",
              "  <thead>\n",
              "    <tr style=\"text-align: right;\">\n",
              "      <th></th>\n",
              "      <th>Value</th>\n",
              "      <th>Predicted</th>\n",
              "      <th>Residues</th>\n",
              "    </tr>\n",
              "  </thead>\n",
              "  <tbody>\n",
              "    <tr>\n",
              "      <th>0</th>\n",
              "      <td>37.9</td>\n",
              "      <td>33.430811</td>\n",
              "      <td>4.469189</td>\n",
              "    </tr>\n",
              "    <tr>\n",
              "      <th>1</th>\n",
              "      <td>15.6</td>\n",
              "      <td>19.336844</td>\n",
              "      <td>-3.736844</td>\n",
              "    </tr>\n",
              "    <tr>\n",
              "      <th>2</th>\n",
              "      <td>45.4</td>\n",
              "      <td>38.986750</td>\n",
              "      <td>6.413250</td>\n",
              "    </tr>\n",
              "    <tr>\n",
              "      <th>3</th>\n",
              "      <td>15.7</td>\n",
              "      <td>15.321788</td>\n",
              "      <td>0.378212</td>\n",
              "    </tr>\n",
              "    <tr>\n",
              "      <th>4</th>\n",
              "      <td>22.6</td>\n",
              "      <td>25.314391</td>\n",
              "      <td>-2.714391</td>\n",
              "    </tr>\n",
              "    <tr>\n",
              "      <th>...</th>\n",
              "      <td>...</td>\n",
              "      <td>...</td>\n",
              "      <td>...</td>\n",
              "    </tr>\n",
              "    <tr>\n",
              "      <th>374</th>\n",
              "      <td>19.5</td>\n",
              "      <td>16.851776</td>\n",
              "      <td>2.648224</td>\n",
              "    </tr>\n",
              "    <tr>\n",
              "      <th>375</th>\n",
              "      <td>21.1</td>\n",
              "      <td>22.064758</td>\n",
              "      <td>-0.964758</td>\n",
              "    </tr>\n",
              "    <tr>\n",
              "      <th>376</th>\n",
              "      <td>24.5</td>\n",
              "      <td>26.920105</td>\n",
              "      <td>-2.420105</td>\n",
              "    </tr>\n",
              "    <tr>\n",
              "      <th>377</th>\n",
              "      <td>13.4</td>\n",
              "      <td>12.991963</td>\n",
              "      <td>0.408037</td>\n",
              "    </tr>\n",
              "    <tr>\n",
              "      <th>378</th>\n",
              "      <td>18.6</td>\n",
              "      <td>18.819577</td>\n",
              "      <td>-0.219577</td>\n",
              "    </tr>\n",
              "  </tbody>\n",
              "</table>\n",
              "<p>379 rows × 3 columns</p>\n",
              "</div>"
            ],
            "text/plain": [
              "     Value  Predicted  Residues\n",
              "0     37.9  33.430811  4.469189\n",
              "1     15.6  19.336844 -3.736844\n",
              "2     45.4  38.986750  6.413250\n",
              "3     15.7  15.321788  0.378212\n",
              "4     22.6  25.314391 -2.714391\n",
              "..     ...        ...       ...\n",
              "374   19.5  16.851776  2.648224\n",
              "375   21.1  22.064758 -0.964758\n",
              "376   24.5  26.920105 -2.420105\n",
              "377   13.4  12.991963  0.408037\n",
              "378   18.6  18.819577 -0.219577\n",
              "\n",
              "[379 rows x 3 columns]"
            ]
          },
          "metadata": {
            "tags": []
          },
          "execution_count": 14
        }
      ]
    },
    {
      "cell_type": "code",
      "metadata": {
        "id": "aKBvZQLVFydy",
        "colab": {
          "base_uri": "https://localhost:8080/",
          "height": 542
        },
        "outputId": "f41e7b10-8d3d-49ea-a47a-c3e3cb0f383a"
      },
      "source": [
        "# graphique Value vs predicted \r\n",
        "sns.lmplot(x='Value', y='Predicted', data=residual, fit_reg=False, height=7)  \r\n",
        "\r\n",
        "# Tracage de la ligne diagonal\r\n",
        "line_coords = np.arange(residual.min().min(), residual.max().max())\r\n",
        "plt.plot(line_coords, line_coords,  # X and y points\r\n",
        "             color='darkorange', linestyle='-')\r\n",
        "plt.title('Value vs Predicted')\r\n",
        "plt.show()"
      ],
      "execution_count": null,
      "outputs": [
        {
          "output_type": "display_data",
          "data": {
            "image/png": "[encoded data removed]",
            "text/plain": [
              "<Figure size 504x504 with 1 Axes>"
            ]
          },
          "metadata": {
            "tags": []
          }
        }
      ]
    },
    {
      "cell_type": "code",
      "metadata": {
        "colab": {
          "base_uri": "https://localhost:8080/",
          "height": 481
        },
        "id": "GWtbhMAWzGPs",
        "outputId": "b72ab92f-7ea2-41ef-8db4-3b3bed93fa49"
      },
      "source": [
        "# Distribution des résidus\r\n",
        "plt.subplots(figsize=(12, 6))\r\n",
        "plt.title('Distribution des Résidus')\r\n",
        "sns.distplot(residual['Residues'])"
      ],
      "execution_count": null,
      "outputs": [
        {
          "output_type": "stream",
          "text": [
            "/usr/local/lib/python3.7/dist-packages/seaborn/distributions.py:2557: FutureWarning: `distplot` is a deprecated function and will be removed in a future version. Please adapt your code to use either `displot` (a figure-level function with similar flexibility) or `histplot` (an axes-level function for histograms).\n",
            "  warnings.warn(msg, FutureWarning)\n"
          ],
          "name": "stderr"
        },
        {
          "output_type": "execute_result",
          "data": {
            "text/plain": [
              "<matplotlib.axes._subplots.AxesSubplot at 0x7faa618f5e90>"
            ]
          },
          "metadata": {
            "tags": []
          },
          "execution_count": 84
        },
        {
          "output_type": "display_data",
          "data": {
            "image/png": "[encoded data removed]",
            "text/plain": [
              "<Figure size 864x432 with 1 Axes>"
            ]
          },
          "metadata": {
            "tags": []
          }
        }
      ]
    },
    {
      "cell_type": "markdown",
      "metadata": {
        "id": "OnHZqgAw2avL"
      },
      "source": [
        "## Test de la normalité de la distribution des résidus"
      ]
    },
    {
      "cell_type": "code",
      "metadata": {
        "colab": {
          "base_uri": "https://localhost:8080/"
        },
        "id": "IL1gyfM01zgO",
        "outputId": "21d277d7-765d-4890-ea23-4f1a28c3bee1"
      },
      "source": [
        "from scipy.stats import shapiro, normaltest\r\n",
        "# test de normalité\r\n",
        "stat, p = shapiro(residual[\"Residues\"])\r\n",
        "print('Statistics=%.3f, p-value=%.3f' % (stat, p))\r\n",
        "# interpretation\r\n",
        "alpha = 0.05\r\n",
        "if p < alpha:\r\n",
        "\tprint('Residu semble Gaussien (On occepte H0)')\r\n",
        "else:\r\n",
        "\tprint('Residu non Gaussien (On rejette H0)')"
      ],
      "execution_count": null,
      "outputs": [
        {
          "output_type": "stream",
          "text": [
            "Statistics=0.909, p-value=0.000\n",
            "Residu semble Gaussien (On occepte H0)\n"
          ],
          "name": "stdout"
        }
      ]
    },
    {
      "cell_type": "markdown",
      "metadata": {
        "id": "KKQ65Or9FP-O"
      },
      "source": [
        "## 2.  la méthode de sélection de variable pas-à-pas descendante "
      ]
    },
    {
      "cell_type": "markdown",
      "metadata": {
        "id": "E9y7xHgPgIKa"
      },
      "source": [
        "### StatModels"
      ]
    },
    {
      "cell_type": "code",
      "metadata": {
        "colab": {
          "base_uri": "https://localhost:8080/"
        },
        "id": "QtBsw1esvBHZ",
        "outputId": "cac7751e-7d00-4f3c-b333-7375abd5e5dd"
      },
      "source": [
        "X_train.shape, X_test.shape"
      ],
      "execution_count": 115,
      "outputs": [
        {
          "output_type": "execute_result",
          "data": {
            "text/plain": [
              "((379, 18), (127, 18))"
            ]
          },
          "metadata": {
            "tags": []
          },
          "execution_count": 115
        }
      ]
    },
    {
      "cell_type": "code",
      "metadata": {
        "colab": {
          "base_uri": "https://localhost:8080/"
        },
        "id": "mhsgjF5xFaaD",
        "outputId": "8bc50b6c-b1ed-45f2-8218-9b3c33ca9018"
      },
      "source": [
        "#Base de données à utiliser\r\n",
        "X_train_st = pd.DataFrame(X_train,columns=X_train_i.columns)\r\n",
        "X_train_st.insert(0, \"intercept\", np.ones(379),True)\r\n",
        "X_train_st.shape"
      ],
      "execution_count": 116,
      "outputs": [
        {
          "output_type": "execute_result",
          "data": {
            "text/plain": [
              "(379, 19)"
            ]
          },
          "metadata": {
            "tags": []
          },
          "execution_count": 116
        }
      ]
    },
    {
      "cell_type": "code",
      "metadata": {
        "colab": {
          "base_uri": "https://localhost:8080/"
        },
        "id": "pqAe2QfQy08Y",
        "outputId": "1cfdb711-0039-4e29-9ad2-259181b0a6c7"
      },
      "source": [
        "X_test_st = pd.DataFrame(X_test,columns=X_train_i.columns)\r\n",
        "X_test_st.insert(0, \"intercept\", np.ones(127),True)\r\n",
        "X_test_st.shape"
      ],
      "execution_count": 117,
      "outputs": [
        {
          "output_type": "execute_result",
          "data": {
            "text/plain": [
              "(127, 19)"
            ]
          },
          "metadata": {
            "tags": []
          },
          "execution_count": 117
        }
      ]
    },
    {
      "cell_type": "code",
      "metadata": {
        "colab": {
          "base_uri": "https://localhost:8080/",
          "height": 814
        },
        "id": "qUFVGW7UwMoV",
        "outputId": "bbb3159c-b8b6-4a44-cef5-8e12da67411f"
      },
      "source": [
        "import statsmodels.api as sm\r\n",
        "\r\n",
        "#Modèle initial avec toutes les variables\r\n",
        "model_sm = sm.OLS(y_train, X_train_i).fit()\r\n",
        "model_sm.summary()"
      ],
      "execution_count": 118,
      "outputs": [
        {
          "output_type": "execute_result",
          "data": {
            "text/html": [
              "<table class=\"simpletable\">\n",
              "<caption>OLS Regression Results</caption>\n",
              "<tr>\n",
              "  <th>Dep. Variable:</th>            <td>Y</td>        <th>  R-squared (uncentered):</th>      <td>   0.962</td> \n",
              "</tr>\n",
              "<tr>\n",
              "  <th>Model:</th>                   <td>OLS</td>       <th>  Adj. R-squared (uncentered):</th> <td>   0.960</td> \n",
              "</tr>\n",
              "<tr>\n",
              "  <th>Method:</th>             <td>Least Squares</td>  <th>  F-statistic:       </th>          <td>   502.5</td> \n",
              "</tr>\n",
              "<tr>\n",
              "  <th>Date:</th>             <td>Wed, 03 Mar 2021</td> <th>  Prob (F-statistic):</th>          <td>6.68e-243</td>\n",
              "</tr>\n",
              "<tr>\n",
              "  <th>Time:</th>                 <td>22:54:31</td>     <th>  Log-Likelihood:    </th>          <td> -1136.4</td> \n",
              "</tr>\n",
              "<tr>\n",
              "  <th>No. Observations:</th>      <td>   379</td>      <th>  AIC:               </th>          <td>   2309.</td> \n",
              "</tr>\n",
              "<tr>\n",
              "  <th>Df Residuals:</th>          <td>   361</td>      <th>  BIC:               </th>          <td>   2380.</td> \n",
              "</tr>\n",
              "<tr>\n",
              "  <th>Df Model:</th>              <td>    18</td>      <th>                     </th>              <td> </td>    \n",
              "</tr>\n",
              "<tr>\n",
              "  <th>Covariance Type:</th>      <td>nonrobust</td>    <th>                     </th>              <td> </td>    \n",
              "</tr>\n",
              "</table>\n",
              "<table class=\"simpletable\">\n",
              "<tr>\n",
              "   <td></td>      <th>coef</th>     <th>std err</th>      <th>t</th>      <th>P>|t|</th>  <th>[0.025</th>    <th>0.975]</th>  \n",
              "</tr>\n",
              "<tr>\n",
              "  <th>R1</th>  <td>    0.1240</td> <td>    0.271</td> <td>    0.457</td> <td> 0.648</td> <td>   -0.410</td> <td>    0.658</td>\n",
              "</tr>\n",
              "<tr>\n",
              "  <th>R2</th>  <td>   -0.2629</td> <td>    0.274</td> <td>   -0.959</td> <td> 0.338</td> <td>   -0.802</td> <td>    0.276</td>\n",
              "</tr>\n",
              "<tr>\n",
              "  <th>R3</th>  <td>   -0.1391</td> <td>    0.271</td> <td>   -0.514</td> <td> 0.607</td> <td>   -0.671</td> <td>    0.393</td>\n",
              "</tr>\n",
              "<tr>\n",
              "  <th>R4</th>  <td>    0.3977</td> <td>    0.256</td> <td>    1.553</td> <td> 0.121</td> <td>   -0.106</td> <td>    0.901</td>\n",
              "</tr>\n",
              "<tr>\n",
              "  <th>R5</th>  <td>   -0.3788</td> <td>    0.250</td> <td>   -1.517</td> <td> 0.130</td> <td>   -0.870</td> <td>    0.112</td>\n",
              "</tr>\n",
              "<tr>\n",
              "  <th>X1</th>  <td>   -0.1102</td> <td>    0.041</td> <td>   -2.680</td> <td> 0.008</td> <td>   -0.191</td> <td>   -0.029</td>\n",
              "</tr>\n",
              "<tr>\n",
              "  <th>X2</th>  <td>    0.0376</td> <td>    0.017</td> <td>    2.165</td> <td> 0.031</td> <td>    0.003</td> <td>    0.072</td>\n",
              "</tr>\n",
              "<tr>\n",
              "  <th>X3</th>  <td>    0.0519</td> <td>    0.072</td> <td>    0.718</td> <td> 0.473</td> <td>   -0.090</td> <td>    0.194</td>\n",
              "</tr>\n",
              "<tr>\n",
              "  <th>X4</th>  <td>    2.5044</td> <td>    1.021</td> <td>    2.454</td> <td> 0.015</td> <td>    0.497</td> <td>    4.512</td>\n",
              "</tr>\n",
              "<tr>\n",
              "  <th>X5</th>  <td>   -4.9249</td> <td>    3.883</td> <td>   -1.268</td> <td> 0.206</td> <td>  -12.561</td> <td>    2.712</td>\n",
              "</tr>\n",
              "<tr>\n",
              "  <th>X6</th>  <td>    6.1414</td> <td>    0.359</td> <td>   17.121</td> <td> 0.000</td> <td>    5.436</td> <td>    6.847</td>\n",
              "</tr>\n",
              "<tr>\n",
              "  <th>X7</th>  <td>   -0.0126</td> <td>    0.016</td> <td>   -0.786</td> <td> 0.432</td> <td>   -0.044</td> <td>    0.019</td>\n",
              "</tr>\n",
              "<tr>\n",
              "  <th>X8</th>  <td>   -0.9824</td> <td>    0.230</td> <td>   -4.278</td> <td> 0.000</td> <td>   -1.434</td> <td>   -0.531</td>\n",
              "</tr>\n",
              "<tr>\n",
              "  <th>X9</th>  <td>    0.1289</td> <td>    0.078</td> <td>    1.660</td> <td> 0.098</td> <td>   -0.024</td> <td>    0.282</td>\n",
              "</tr>\n",
              "<tr>\n",
              "  <th>X10</th> <td>   -0.0070</td> <td>    0.004</td> <td>   -1.554</td> <td> 0.121</td> <td>   -0.016</td> <td>    0.002</td>\n",
              "</tr>\n",
              "<tr>\n",
              "  <th>X11</th> <td>   -0.4869</td> <td>    0.124</td> <td>   -3.913</td> <td> 0.000</td> <td>   -0.732</td> <td>   -0.242</td>\n",
              "</tr>\n",
              "<tr>\n",
              "  <th>X12</th> <td>    0.0178</td> <td>    0.003</td> <td>    5.604</td> <td> 0.000</td> <td>    0.012</td> <td>    0.024</td>\n",
              "</tr>\n",
              "<tr>\n",
              "  <th>X13</th> <td>   -0.4276</td> <td>    0.058</td> <td>   -7.390</td> <td> 0.000</td> <td>   -0.541</td> <td>   -0.314</td>\n",
              "</tr>\n",
              "</table>\n",
              "<table class=\"simpletable\">\n",
              "<tr>\n",
              "  <th>Omnibus:</th>       <td>143.415</td> <th>  Durbin-Watson:     </th> <td>   2.040</td> \n",
              "</tr>\n",
              "<tr>\n",
              "  <th>Prob(Omnibus):</th> <td> 0.000</td>  <th>  Jarque-Bera (JB):  </th> <td> 922.465</td> \n",
              "</tr>\n",
              "<tr>\n",
              "  <th>Skew:</th>          <td> 1.451</td>  <th>  Prob(JB):          </th> <td>4.89e-201</td>\n",
              "</tr>\n",
              "<tr>\n",
              "  <th>Kurtosis:</th>      <td>10.071</td>  <th>  Cond. No.          </th> <td>8.51e+03</td> \n",
              "</tr>\n",
              "</table><br/><br/>Warnings:<br/>[1] Standard Errors assume that the covariance matrix of the errors is correctly specified.<br/>[2] The condition number is large, 8.51e+03. This might indicate that there are<br/>strong multicollinearity or other numerical problems."
            ],
            "text/plain": [
              "<class 'statsmodels.iolib.summary.Summary'>\n",
              "\"\"\"\n",
              "                                 OLS Regression Results                                \n",
              "=======================================================================================\n",
              "Dep. Variable:                      Y   R-squared (uncentered):                   0.962\n",
              "Model:                            OLS   Adj. R-squared (uncentered):              0.960\n",
              "Method:                 Least Squares   F-statistic:                              502.5\n",
              "Date:                Wed, 03 Mar 2021   Prob (F-statistic):                   6.68e-243\n",
              "Time:                        22:54:31   Log-Likelihood:                         -1136.4\n",
              "No. Observations:                 379   AIC:                                      2309.\n",
              "Df Residuals:                     361   BIC:                                      2380.\n",
              "Df Model:                          18                                                  \n",
              "Covariance Type:            nonrobust                                                  \n",
              "==============================================================================\n",
              "                 coef    std err          t      P>|t|      [0.025      0.975]\n",
              "------------------------------------------------------------------------------\n",
              "R1             0.1240      0.271      0.457      0.648      -0.410       0.658\n",
              "R2            -0.2629      0.274     -0.959      0.338      -0.802       0.276\n",
              "R3            -0.1391      0.271     -0.514      0.607      -0.671       0.393\n",
              "R4             0.3977      0.256      1.553      0.121      -0.106       0.901\n",
              "R5            -0.3788      0.250     -1.517      0.130      -0.870       0.112\n",
              "X1            -0.1102      0.041     -2.680      0.008      -0.191      -0.029\n",
              "X2             0.0376      0.017      2.165      0.031       0.003       0.072\n",
              "X3             0.0519      0.072      0.718      0.473      -0.090       0.194\n",
              "X4             2.5044      1.021      2.454      0.015       0.497       4.512\n",
              "X5            -4.9249      3.883     -1.268      0.206     -12.561       2.712\n",
              "X6             6.1414      0.359     17.121      0.000       5.436       6.847\n",
              "X7            -0.0126      0.016     -0.786      0.432      -0.044       0.019\n",
              "X8            -0.9824      0.230     -4.278      0.000      -1.434      -0.531\n",
              "X9             0.1289      0.078      1.660      0.098      -0.024       0.282\n",
              "X10           -0.0070      0.004     -1.554      0.121      -0.016       0.002\n",
              "X11           -0.4869      0.124     -3.913      0.000      -0.732      -0.242\n",
              "X12            0.0178      0.003      5.604      0.000       0.012       0.024\n",
              "X13           -0.4276      0.058     -7.390      0.000      -0.541      -0.314\n",
              "==============================================================================\n",
              "Omnibus:                      143.415   Durbin-Watson:                   2.040\n",
              "Prob(Omnibus):                  0.000   Jarque-Bera (JB):              922.465\n",
              "Skew:                           1.451   Prob(JB):                    4.89e-201\n",
              "Kurtosis:                      10.071   Cond. No.                     8.51e+03\n",
              "==============================================================================\n",
              "\n",
              "Warnings:\n",
              "[1] Standard Errors assume that the covariance matrix of the errors is correctly specified.\n",
              "[2] The condition number is large, 8.51e+03. This might indicate that there are\n",
              "strong multicollinearity or other numerical problems.\n",
              "\"\"\""
            ]
          },
          "metadata": {
            "tags": []
          },
          "execution_count": 118
        }
      ]
    },
    {
      "cell_type": "code",
      "metadata": {
        "colab": {
          "base_uri": "https://localhost:8080/",
          "height": 625
        },
        "id": "g2w5Zf0CBdS0",
        "outputId": "84df990a-ce3f-4b4c-82dd-ab721b1cf5ae"
      },
      "source": [
        "## Suppression\r\n",
        "useless_col = [\"R1\", \"R2\", \"R3\", \"R4\", \"R5\", \"X3\", \"X5\", \"X9\", \"X10\"]\r\n",
        "X_train_sm = X_train_i.drop(useless_col, axis=1)\r\n",
        "model_sm_f = sm.OLS(y_train, X_train_sm).fit()\r\n",
        "model_sm_f.summary()"
      ],
      "execution_count": 119,
      "outputs": [
        {
          "output_type": "execute_result",
          "data": {
            "text/html": [
              "<table class=\"simpletable\">\n",
              "<caption>OLS Regression Results</caption>\n",
              "<tr>\n",
              "  <th>Dep. Variable:</th>            <td>Y</td>        <th>  R-squared (uncentered):</th>      <td>   0.960</td> \n",
              "</tr>\n",
              "<tr>\n",
              "  <th>Model:</th>                   <td>OLS</td>       <th>  Adj. R-squared (uncentered):</th> <td>   0.959</td> \n",
              "</tr>\n",
              "<tr>\n",
              "  <th>Method:</th>             <td>Least Squares</td>  <th>  F-statistic:       </th>          <td>   997.7</td> \n",
              "</tr>\n",
              "<tr>\n",
              "  <th>Date:</th>             <td>Wed, 03 Mar 2021</td> <th>  Prob (F-statistic):</th>          <td>2.23e-253</td>\n",
              "</tr>\n",
              "<tr>\n",
              "  <th>Time:</th>                 <td>22:54:32</td>     <th>  Log-Likelihood:    </th>          <td> -1142.2</td> \n",
              "</tr>\n",
              "<tr>\n",
              "  <th>No. Observations:</th>      <td>   379</td>      <th>  AIC:               </th>          <td>   2302.</td> \n",
              "</tr>\n",
              "<tr>\n",
              "  <th>Df Residuals:</th>          <td>   370</td>      <th>  BIC:               </th>          <td>   2338.</td> \n",
              "</tr>\n",
              "<tr>\n",
              "  <th>Df Model:</th>              <td>     9</td>      <th>                     </th>              <td> </td>    \n",
              "</tr>\n",
              "<tr>\n",
              "  <th>Covariance Type:</th>      <td>nonrobust</td>    <th>                     </th>              <td> </td>    \n",
              "</tr>\n",
              "</table>\n",
              "<table class=\"simpletable\">\n",
              "<tr>\n",
              "   <td></td>      <th>coef</th>     <th>std err</th>      <th>t</th>      <th>P>|t|</th>  <th>[0.025</th>    <th>0.975]</th>  \n",
              "</tr>\n",
              "<tr>\n",
              "  <th>X1</th>  <td>   -0.1053</td> <td>    0.036</td> <td>   -2.916</td> <td> 0.004</td> <td>   -0.176</td> <td>   -0.034</td>\n",
              "</tr>\n",
              "<tr>\n",
              "  <th>X2</th>  <td>    0.0271</td> <td>    0.017</td> <td>    1.638</td> <td> 0.102</td> <td>   -0.005</td> <td>    0.060</td>\n",
              "</tr>\n",
              "<tr>\n",
              "  <th>X4</th>  <td>    2.7708</td> <td>    0.991</td> <td>    2.797</td> <td> 0.005</td> <td>    0.823</td> <td>    4.719</td>\n",
              "</tr>\n",
              "<tr>\n",
              "  <th>X6</th>  <td>    5.8007</td> <td>    0.303</td> <td>   19.157</td> <td> 0.000</td> <td>    5.205</td> <td>    6.396</td>\n",
              "</tr>\n",
              "<tr>\n",
              "  <th>X7</th>  <td>   -0.0211</td> <td>    0.015</td> <td>   -1.388</td> <td> 0.166</td> <td>   -0.051</td> <td>    0.009</td>\n",
              "</tr>\n",
              "<tr>\n",
              "  <th>X8</th>  <td>   -0.9122</td> <td>    0.212</td> <td>   -4.296</td> <td> 0.000</td> <td>   -1.330</td> <td>   -0.495</td>\n",
              "</tr>\n",
              "<tr>\n",
              "  <th>X11</th> <td>   -0.5020</td> <td>    0.109</td> <td>   -4.596</td> <td> 0.000</td> <td>   -0.717</td> <td>   -0.287</td>\n",
              "</tr>\n",
              "<tr>\n",
              "  <th>X12</th> <td>    0.0169</td> <td>    0.003</td> <td>    5.601</td> <td> 0.000</td> <td>    0.011</td> <td>    0.023</td>\n",
              "</tr>\n",
              "<tr>\n",
              "  <th>X13</th> <td>   -0.4769</td> <td>    0.052</td> <td>   -9.173</td> <td> 0.000</td> <td>   -0.579</td> <td>   -0.375</td>\n",
              "</tr>\n",
              "</table>\n",
              "<table class=\"simpletable\">\n",
              "<tr>\n",
              "  <th>Omnibus:</th>       <td>143.233</td> <th>  Durbin-Watson:     </th> <td>   2.037</td> \n",
              "</tr>\n",
              "<tr>\n",
              "  <th>Prob(Omnibus):</th> <td> 0.000</td>  <th>  Jarque-Bera (JB):  </th> <td> 881.356</td> \n",
              "</tr>\n",
              "<tr>\n",
              "  <th>Skew:</th>          <td> 1.465</td>  <th>  Prob(JB):          </th> <td>4.13e-192</td>\n",
              "</tr>\n",
              "<tr>\n",
              "  <th>Kurtosis:</th>      <td> 9.872</td>  <th>  Cond. No.          </th> <td>1.46e+03</td> \n",
              "</tr>\n",
              "</table><br/><br/>Warnings:<br/>[1] Standard Errors assume that the covariance matrix of the errors is correctly specified.<br/>[2] The condition number is large, 1.46e+03. This might indicate that there are<br/>strong multicollinearity or other numerical problems."
            ],
            "text/plain": [
              "<class 'statsmodels.iolib.summary.Summary'>\n",
              "\"\"\"\n",
              "                                 OLS Regression Results                                \n",
              "=======================================================================================\n",
              "Dep. Variable:                      Y   R-squared (uncentered):                   0.960\n",
              "Model:                            OLS   Adj. R-squared (uncentered):              0.959\n",
              "Method:                 Least Squares   F-statistic:                              997.7\n",
              "Date:                Wed, 03 Mar 2021   Prob (F-statistic):                   2.23e-253\n",
              "Time:                        22:54:32   Log-Likelihood:                         -1142.2\n",
              "No. Observations:                 379   AIC:                                      2302.\n",
              "Df Residuals:                     370   BIC:                                      2338.\n",
              "Df Model:                           9                                                  \n",
              "Covariance Type:            nonrobust                                                  \n",
              "==============================================================================\n",
              "                 coef    std err          t      P>|t|      [0.025      0.975]\n",
              "------------------------------------------------------------------------------\n",
              "X1            -0.1053      0.036     -2.916      0.004      -0.176      -0.034\n",
              "X2             0.0271      0.017      1.638      0.102      -0.005       0.060\n",
              "X4             2.7708      0.991      2.797      0.005       0.823       4.719\n",
              "X6             5.8007      0.303     19.157      0.000       5.205       6.396\n",
              "X7            -0.0211      0.015     -1.388      0.166      -0.051       0.009\n",
              "X8            -0.9122      0.212     -4.296      0.000      -1.330      -0.495\n",
              "X11           -0.5020      0.109     -4.596      0.000      -0.717      -0.287\n",
              "X12            0.0169      0.003      5.601      0.000       0.011       0.023\n",
              "X13           -0.4769      0.052     -9.173      0.000      -0.579      -0.375\n",
              "==============================================================================\n",
              "Omnibus:                      143.233   Durbin-Watson:                   2.037\n",
              "Prob(Omnibus):                  0.000   Jarque-Bera (JB):              881.356\n",
              "Skew:                           1.465   Prob(JB):                    4.13e-192\n",
              "Kurtosis:                       9.872   Cond. No.                     1.46e+03\n",
              "==============================================================================\n",
              "\n",
              "Warnings:\n",
              "[1] Standard Errors assume that the covariance matrix of the errors is correctly specified.\n",
              "[2] The condition number is large, 1.46e+03. This might indicate that there are\n",
              "strong multicollinearity or other numerical problems.\n",
              "\"\"\""
            ]
          },
          "metadata": {
            "tags": []
          },
          "execution_count": 119
        }
      ]
    },
    {
      "cell_type": "markdown",
      "metadata": {
        "id": "ekQsAsWhDyVk"
      },
      "source": [
        "### Calcul du score R2 et R2 Ajusté avant et après Selection de Variable"
      ]
    },
    {
      "cell_type": "code",
      "metadata": {
        "colab": {
          "base_uri": "https://localhost:8080/"
        },
        "id": "Aau5KgpswMfF",
        "outputId": "01bb1da5-9989-4b98-ade0-49aa3dcda3da"
      },
      "source": [
        "print(model_sm.rsquared, model_sm.rsquared_adj)\r\n",
        "print(model_sm_f.rsquared, model_sm_f.rsquared_adj)"
      ],
      "execution_count": 71,
      "outputs": [
        {
          "output_type": "stream",
          "text": [
            "0.9616211232578731 0.9597074950546646\n",
            "0.9604252862689473 0.9594626580971108\n"
          ],
          "name": "stdout"
        }
      ]
    },
    {
      "cell_type": "code",
      "metadata": {
        "colab": {
          "base_uri": "https://localhost:8080/"
        },
        "id": "zd9TzY1wPKFF",
        "outputId": "77e28f2a-105e-4b93-d108-ac47669c250a"
      },
      "source": [
        "model_sm_f.params"
      ],
      "execution_count": 73,
      "outputs": [
        {
          "output_type": "execute_result",
          "data": {
            "text/plain": [
              "X1    -0.105258\n",
              "X2     0.027083\n",
              "X4     2.770825\n",
              "X6     5.800705\n",
              "X7    -0.021097\n",
              "X8    -0.912205\n",
              "X11   -0.501984\n",
              "X12    0.016881\n",
              "X13   -0.476876\n",
              "dtype: float64"
            ]
          },
          "metadata": {
            "tags": []
          },
          "execution_count": 73
        }
      ]
    },
    {
      "cell_type": "markdown",
      "metadata": {
        "id": "nyMNbHvf45j0"
      },
      "source": [
        "# 3. Régression Ridge"
      ]
    },
    {
      "cell_type": "code",
      "metadata": {
        "colab": {
          "base_uri": "https://localhost:8080/"
        },
        "id": "qVfaykZ8-fWY",
        "outputId": "a0e94889-1bad-43d3-f5cf-2435ad19b06a"
      },
      "source": [
        "# Model entrainé avec les données normales\r\n",
        "baseline_error = np.mean((model.predict(X_test) - y_test) ** 2)\r\n",
        "baseline_error"
      ],
      "execution_count": 89,
      "outputs": [
        {
          "output_type": "execute_result",
          "data": {
            "text/plain": [
              "22.355835084347905"
            ]
          },
          "metadata": {
            "tags": []
          },
          "execution_count": 89
        }
      ]
    },
    {
      "cell_type": "code",
      "metadata": {
        "id": "FZxVn4gq5gch"
      },
      "source": [
        "n_alphas = 200\r\n",
        "alphas = np.logspace(-1, 5, n_alphas)\r\n",
        "#alphas = range(1, n_alphas)\r\n",
        "ridge = linear_model.Ridge()\r\n",
        "\r\n",
        "coefs = []\r\n",
        "errors = []\r\n",
        "\r\n",
        "for a in alphas:\r\n",
        "  ridge.set_params(alpha = a)\r\n",
        "  ridge.fit(X_train, y_train)\r\n",
        "  coefs.append(ridge.coef_)\r\n",
        "  errors.append([baseline_error, np.mean((ridge.predict(X_test)- y_test) ** 2 )])"
      ],
      "execution_count": 113,
      "outputs": []
    },
    {
      "cell_type": "code",
      "metadata": {
        "colab": {
          "base_uri": "https://localhost:8080/",
          "height": 525
        },
        "id": "Sa7qgLgH8xHq",
        "outputId": "c6642a3d-dd27-4006-e36e-38ddaa00d2f5"
      },
      "source": [
        "# Courbe d'évolution des poids et alpha\r\n",
        "ax = plt.gca()\r\n",
        "ax.plot(alphas, coefs)\r\n",
        "ax.set_xscale('log')\r\n",
        "plt.xlabel('alpha')\r\n",
        "plt.ylabel('Poids')\r\n",
        "plt.title('Coefficients de Ridge en fonction de la régularisation')\r\n",
        "plt.axis('tight')\r\n",
        "plt.show()\r\n",
        "# Les poids des différents paramètres en fonction de alpha "
      ],
      "execution_count": 91,
      "outputs": [
        {
          "output_type": "display_data",
          "data": {
            "image/png": "[encoded data removed]",
            "text/plain": [
              "<Figure size 864x576 with 1 Axes>"
            ]
          },
          "metadata": {
            "tags": []
          }
        }
      ]
    },
    {
      "cell_type": "code",
      "metadata": {
        "colab": {
          "base_uri": "https://localhost:8080/",
          "height": 525
        },
        "id": "AKS2-fT1Bv8F",
        "outputId": "228cf03c-85af-425f-83c9-dbaf06f22c96"
      },
      "source": [
        "# Etude de l'erreur\r\n",
        "ax = plt.gca()\r\n",
        "\r\n",
        "ax.plot(alphas, errors)\r\n",
        "ax.set_xscale('log')\r\n",
        "plt.xlabel('alpha')\r\n",
        "plt.ylabel('error')\r\n",
        "plt.axis('tight')\r\n",
        "plt.title('Erreur en fonction de Alpha')\r\n",
        "plt.show()"
      ],
      "execution_count": 92,
      "outputs": [
        {
          "output_type": "display_data",
          "data": {
            "image/png": "[encoded data removed]",
            "text/plain": [
              "<Figure size 864x576 with 1 Axes>"
            ]
          },
          "metadata": {
            "tags": []
          }
        }
      ]
    },
    {
      "cell_type": "code",
      "metadata": {
        "colab": {
          "base_uri": "https://localhost:8080/"
        },
        "id": "DqTGf6WyCmR9",
        "outputId": "949dade8-c06f-4ae5-df58-6d632f28c71a"
      },
      "source": [
        "min(errors)"
      ],
      "execution_count": 93,
      "outputs": [
        {
          "output_type": "execute_result",
          "data": {
            "text/plain": [
              "[22.355835084347905, 22.358464421128513]"
            ]
          },
          "metadata": {
            "tags": []
          },
          "execution_count": 93
        }
      ]
    },
    {
      "cell_type": "code",
      "metadata": {
        "colab": {
          "base_uri": "https://localhost:8080/"
        },
        "id": "K1ntrp2aXoxq",
        "outputId": "d99655a7-8ff1-4d8a-e3b6-307f5f91fdcd"
      },
      "source": [
        "# Utilisation de RidgeCV\r\n",
        "from sklearn.linear_model import RidgeCV\r\n",
        "\r\n",
        "ridge_cv = RidgeCV(alphas=alphas).fit(X_train, y_train)\r\n",
        "\r\n",
        "print(\"Meilleur alpha: \", ridge_cv.alpha_)"
      ],
      "execution_count": 114,
      "outputs": [
        {
          "output_type": "stream",
          "text": [
            "Meilleur alpha:  9.115888299750818\n"
          ],
          "name": "stdout"
        }
      ]
    },
    {
      "cell_type": "code",
      "metadata": {
        "colab": {
          "base_uri": "https://localhost:8080/"
        },
        "id": "-_mufoQMavqP",
        "outputId": "3f1e1420-c907-4fed-d89f-c1ab0a4996f0"
      },
      "source": [
        "# Utilisation des meilleurs paramètres pour les données d'apprentissage et de test\r\n",
        "\r\n",
        "from sklearn.linear_model import Ridge\r\n",
        "ridge_best = Ridge(alpha = ridge_cv.alpha_).fit(X_train, y_train)\r\n",
        "\r\n",
        "pred_ridge = ridge_best.predict(X_test)         \r\n",
        "rmse_ridge = (np.sqrt(mean_squared_error(y_test, pred_ridge)))  \r\n",
        "print(\"Coefficients: \", ridge_best.coef_) "
      ],
      "execution_count": 95,
      "outputs": [
        {
          "output_type": "stream",
          "text": [
            "Coefficients:  [ 0.18111795 -0.23007743 -0.04607659  0.35061199 -0.31818876 -0.92626084\n",
            "  0.63503712  0.19100646  0.72151204 -1.70529397  3.23789637 -0.23109964\n",
            " -2.66633953  1.59440204 -1.14438832 -2.0083386   1.14847242 -3.51535138]\n"
          ],
          "name": "stdout"
        }
      ]
    },
    {
      "cell_type": "code",
      "metadata": {
        "colab": {
          "base_uri": "https://localhost:8080/",
          "height": 111
        },
        "id": "OY7CZwuDo3c2",
        "outputId": "3b88ad9d-9c4f-4945-c592-dd2b95fb894a"
      },
      "source": [
        "# Prédiction\r\n",
        "y_pred_train = ridge_best.predict(X_train)\r\n",
        "y_pred_test = ridge_best.predict(X_test)\r\n",
        "\r\n",
        "\r\n",
        "R2_train = r2_score(y_train, y_pred_train)\r\n",
        "R2_test = r2_score(y_test, y_pred_test)\r\n",
        "\r\n",
        "RMSE_train = np.sqrt(mean_squared_error(y_train, y_pred_train))\r\n",
        "RMSE_test = np.sqrt(mean_squared_error(y_test, y_pred_test))\r\n",
        "\r\n",
        "model_perf = {\"Data\": ['train', 'test'], 'R2': [R2_train, R2_test], 'RMSE': [RMSE_train, RMSE_test]}\r\n",
        "model_perf = pd.DataFrame(model_perf, columns=[\"Data\", \"R2\", \"RMSE\"])\r\n",
        "model_perf"
      ],
      "execution_count": 96,
      "outputs": [
        {
          "output_type": "execute_result",
          "data": {
            "text/html": [
              "<div>\n",
              "<style scoped>\n",
              "    .dataframe tbody tr th:only-of-type {\n",
              "        vertical-align: middle;\n",
              "    }\n",
              "\n",
              "    .dataframe tbody tr th {\n",
              "        vertical-align: top;\n",
              "    }\n",
              "\n",
              "    .dataframe thead th {\n",
              "        text-align: right;\n",
              "    }\n",
              "</style>\n",
              "<table border=\"1\" class=\"dataframe\">\n",
              "  <thead>\n",
              "    <tr style=\"text-align: right;\">\n",
              "      <th></th>\n",
              "      <th>Data</th>\n",
              "      <th>R2</th>\n",
              "      <th>RMSE</th>\n",
              "    </tr>\n",
              "  </thead>\n",
              "  <tbody>\n",
              "    <tr>\n",
              "      <th>0</th>\n",
              "      <td>train</td>\n",
              "      <td>0.750335</td>\n",
              "      <td>4.705398</td>\n",
              "    </tr>\n",
              "    <tr>\n",
              "      <th>1</th>\n",
              "      <td>test</td>\n",
              "      <td>0.677622</td>\n",
              "      <td>4.751341</td>\n",
              "    </tr>\n",
              "  </tbody>\n",
              "</table>\n",
              "</div>"
            ],
            "text/plain": [
              "    Data        R2      RMSE\n",
              "0  train  0.750335  4.705398\n",
              "1   test  0.677622  4.751341"
            ]
          },
          "metadata": {
            "tags": []
          },
          "execution_count": 96
        }
      ]
    },
    {
      "cell_type": "markdown",
      "metadata": {
        "id": "8k5oKTN-TSp-"
      },
      "source": [
        "La norme ℓ2 du vecteur de poids peut être utilisée comme terme de régularisation de la régression linéaire.\r\n",
        "\r\n",
        "Cela s'appelle la régularisation de Tykhonov, ou régression ridge.\r\n",
        "\r\n",
        "La régression ridge admet toujours une solution analytique unique.\r\n",
        "\r\n",
        "La régression ridge permet d'éviter le surapprentissage en restraignant l'amplitude des poids.\r\n",
        "\r\n",
        "La régression ridge a un effet de sélection groupée : les variables corrélées ont le même coefficient.\r\n",
        "\r\n"
      ]
    },
    {
      "cell_type": "markdown",
      "metadata": {
        "id": "uEI8hsFfTSmx"
      },
      "source": [
        ""
      ]
    },
    {
      "cell_type": "markdown",
      "metadata": {
        "id": "HHDwFs-oOvfL"
      },
      "source": [
        "# 4. La Régression LASSO"
      ]
    },
    {
      "cell_type": "code",
      "metadata": {
        "id": "bq8vzFJ9OvK1"
      },
      "source": [
        "n_alphas = 20\r\n",
        "alphas = np.logspace(-1, 5, n_alphas)\r\n",
        "#alphas = np.arange(0.001, n_alphas)\r\n",
        "lasso = linear_model.Lasso(fit_intercept=False)\r\n",
        "\r\n",
        "coefs = []\r\n",
        "errors = []\r\n",
        "for a in alphas:\r\n",
        "    lasso.set_params(alpha=a)\r\n",
        "    lasso.fit(X_train, y_train)\r\n",
        "    coefs.append(lasso.coef_)\r\n",
        "    errors.append([baseline_error, np.mean((lasso.predict(X_test) - y_test) ** 2)])"
      ],
      "execution_count": 97,
      "outputs": []
    },
    {
      "cell_type": "code",
      "metadata": {
        "colab": {
          "base_uri": "https://localhost:8080/"
        },
        "id": "-UF1y1iX6N2b",
        "outputId": "61c2540d-e487-41b5-8005-58b408245b57"
      },
      "source": [
        "lasso.score(X_train, y_train), min(errors)"
      ],
      "execution_count": 98,
      "outputs": [
        {
          "output_type": "execute_result",
          "data": {
            "text/plain": [
              "(-5.9174825133707065, [22.355835084347905, 519.1100797055229])"
            ]
          },
          "metadata": {
            "tags": []
          },
          "execution_count": 98
        }
      ]
    },
    {
      "cell_type": "code",
      "metadata": {
        "colab": {
          "base_uri": "https://localhost:8080/",
          "height": 525
        },
        "id": "YQqGz0bySzXE",
        "outputId": "425d6189-5079-4b84-c4c5-45b00914589a"
      },
      "source": [
        "ax = plt.gca()\r\n",
        "\r\n",
        "ax.plot(alphas, coefs)\r\n",
        "ax.set_xscale('log')\r\n",
        "plt.xlabel('alpha')\r\n",
        "plt.ylabel('poids')\r\n",
        "plt.axis('tight')\r\n",
        "plt.title('Les poids en fonction de alpha')\r\n",
        "\r\n",
        "plt.show()"
      ],
      "execution_count": 99,
      "outputs": [
        {
          "output_type": "display_data",
          "data": {
            "image/png": "[encoded data removed]",
            "text/plain": [
              "<Figure size 864x576 with 1 Axes>"
            ]
          },
          "metadata": {
            "tags": []
          }
        }
      ]
    },
    {
      "cell_type": "code",
      "metadata": {
        "colab": {
          "base_uri": "https://localhost:8080/",
          "height": 525
        },
        "id": "2Sp-pcD0TE7O",
        "outputId": "23d80e64-df20-4789-e76c-94785949b302"
      },
      "source": [
        "ax = plt.gca()\r\n",
        "\r\n",
        "ax.plot(alphas, errors)\r\n",
        "ax.set_xscale('log')\r\n",
        "plt.xlabel('alpha')\r\n",
        "plt.ylabel('errors')\r\n",
        "plt.axis('tight')\r\n",
        "plt.title('L\\'erreur en fonction de alpha')\r\n",
        "plt.show()"
      ],
      "execution_count": 100,
      "outputs": [
        {
          "output_type": "display_data",
          "data": {
            "image/png": "[encoded data removed]",
            "text/plain": [
              "<Figure size 864x576 with 1 Axes>"
            ]
          },
          "metadata": {
            "tags": []
          }
        }
      ]
    },
    {
      "cell_type": "code",
      "metadata": {
        "colab": {
          "base_uri": "https://localhost:8080/"
        },
        "id": "f8psPjE4TgwP",
        "outputId": "b1645680-0a7e-4ebf-afd1-ea724979b0dc"
      },
      "source": [
        "min(errors)"
      ],
      "execution_count": null,
      "outputs": [
        {
          "output_type": "execute_result",
          "data": {
            "text/plain": [
              "[22.355835084347888, 525.399704097607]"
            ]
          },
          "metadata": {
            "tags": []
          },
          "execution_count": 56
        }
      ]
    },
    {
      "cell_type": "code",
      "metadata": {
        "id": "YNsB_fAij8dR"
      },
      "source": [
        "# Utilisation de LassoCV\r\n",
        "from sklearn.linear_model import LassoCV\r\n",
        "\r\n",
        "reg_lasso_cv = LassoCV(cv=5, alphas=alphas).fit(X_train, y_train)"
      ],
      "execution_count": 101,
      "outputs": []
    },
    {
      "cell_type": "code",
      "metadata": {
        "colab": {
          "base_uri": "https://localhost:8080/"
        },
        "id": "9HlHD3Achtwl",
        "outputId": "bb18d6eb-577e-42b0-9a0a-7199831efdf1"
      },
      "source": [
        "reg_lasso_cv.alpha_"
      ],
      "execution_count": 102,
      "outputs": [
        {
          "output_type": "execute_result",
          "data": {
            "text/plain": [
              "0.1"
            ]
          },
          "metadata": {
            "tags": []
          },
          "execution_count": 102
        }
      ]
    },
    {
      "cell_type": "code",
      "metadata": {
        "colab": {
          "base_uri": "https://localhost:8080/"
        },
        "id": "UELMnA2jxIx0",
        "outputId": "7a9d2ba1-350d-41ac-a357-30d91c2eeb31"
      },
      "source": [
        "reg_lasso_cv.coef_"
      ],
      "execution_count": 103,
      "outputs": [
        {
          "output_type": "execute_result",
          "data": {
            "text/plain": [
              "array([ 0.03599044, -0.1058935 , -0.        ,  0.23759924, -0.25879566,\n",
              "       -0.73914414,  0.32088526, -0.        ,  0.69277601, -1.46325736,\n",
              "        3.28196813, -0.01336633, -2.16788362,  0.57225722, -0.20615933,\n",
              "       -1.92225451,  1.05641979, -3.67050012])"
            ]
          },
          "metadata": {
            "tags": []
          },
          "execution_count": 103
        }
      ]
    },
    {
      "cell_type": "code",
      "metadata": {
        "colab": {
          "base_uri": "https://localhost:8080/"
        },
        "id": "cQAE-9E2lM51",
        "outputId": "b2efa233-ea73-42c8-d234-562a09294dd2"
      },
      "source": [
        "reg_lasso_cv.get_params"
      ],
      "execution_count": null,
      "outputs": [
        {
          "output_type": "execute_result",
          "data": {
            "text/plain": [
              "<bound method BaseEstimator.get_params of LassoCV(alphas=array([1.00000000e-01, 2.06913808e-01, 4.28133240e-01, 8.85866790e-01,\n",
              "       1.83298071e+00, 3.79269019e+00, 7.84759970e+00, 1.62377674e+01,\n",
              "       3.35981829e+01, 6.95192796e+01, 1.43844989e+02, 2.97635144e+02,\n",
              "       6.15848211e+02, 1.27427499e+03, 2.63665090e+03, 5.45559478e+03,\n",
              "       1.12883789e+04, 2.33572147e+04, 4.83293024e+04, 1.00000000e+05]),\n",
              "        copy_X=True, cv=5, eps=0.001, fit_intercept=True, max_iter=1000,\n",
              "        n_alphas=100, n_jobs=None, normalize=False, positive=False,\n",
              "        precompute='auto', random_state=None, selection='cyclic', tol=0.0001,\n",
              "        verbose=False)>"
            ]
          },
          "metadata": {
            "tags": []
          },
          "execution_count": 130
        }
      ]
    },
    {
      "cell_type": "code",
      "metadata": {
        "colab": {
          "base_uri": "https://localhost:8080/"
        },
        "id": "AEJdPWMkh_BW",
        "outputId": "a20fdb54-d072-4a57-e6d4-f4fe499bf7eb"
      },
      "source": [
        "lasso_best = linear_model.Lasso(fit_intercept=False, alpha=reg_lasso_cv.alpha_)\r\n",
        "lasso_best.fit(X_train, y_train)"
      ],
      "execution_count": 104,
      "outputs": [
        {
          "output_type": "execute_result",
          "data": {
            "text/plain": [
              "Lasso(alpha=0.1, copy_X=True, fit_intercept=False, max_iter=1000,\n",
              "      normalize=False, positive=False, precompute=False, random_state=None,\n",
              "      selection='cyclic', tol=0.0001, warm_start=False)"
            ]
          },
          "metadata": {
            "tags": []
          },
          "execution_count": 104
        }
      ]
    },
    {
      "cell_type": "code",
      "metadata": {
        "colab": {
          "base_uri": "https://localhost:8080/",
          "height": 111
        },
        "id": "u4L4OZfUiYEy",
        "outputId": "bf5ff599-0297-4afa-da60-93950795ffdf"
      },
      "source": [
        "# Prédiction\r\n",
        "y_pred_train = lasso_best.predict(X_train)\r\n",
        "y_pred_test = lasso_best.predict(X_test)\r\n",
        "\r\n",
        "R2_train = lasso_best.score(X_train, y_train)\r\n",
        "R2_test = lasso_best.score(X_test, y_test)\r\n",
        "\r\n",
        "RMSE_train = np.sqrt(mean_squared_error(y_train, y_pred_train))\r\n",
        "RMSE_test = np.sqrt(mean_squared_error(y_test, y_pred_test))\r\n",
        "\r\n",
        "model_perf = {\"Data\": ['train', 'test'], 'R2': [R2_train, R2_test], 'RMSE': [RMSE_train, RMSE_test]}\r\n",
        "model_perf = pd.DataFrame(model_perf, columns=[\"Data\", \"R2\", \"RMSE\"])\r\n",
        "model_perf"
      ],
      "execution_count": 106,
      "outputs": [
        {
          "output_type": "execute_result",
          "data": {
            "text/html": [
              "<div>\n",
              "<style scoped>\n",
              "    .dataframe tbody tr th:only-of-type {\n",
              "        vertical-align: middle;\n",
              "    }\n",
              "\n",
              "    .dataframe tbody tr th {\n",
              "        vertical-align: top;\n",
              "    }\n",
              "\n",
              "    .dataframe thead th {\n",
              "        text-align: right;\n",
              "    }\n",
              "</style>\n",
              "<table border=\"1\" class=\"dataframe\">\n",
              "  <thead>\n",
              "    <tr style=\"text-align: right;\">\n",
              "      <th></th>\n",
              "      <th>Data</th>\n",
              "      <th>R2</th>\n",
              "      <th>RMSE</th>\n",
              "    </tr>\n",
              "  </thead>\n",
              "  <tbody>\n",
              "    <tr>\n",
              "      <th>0</th>\n",
              "      <td>train</td>\n",
              "      <td>-5.172720</td>\n",
              "      <td>23.396740</td>\n",
              "    </tr>\n",
              "    <tr>\n",
              "      <th>1</th>\n",
              "      <td>test</td>\n",
              "      <td>-7.002669</td>\n",
              "      <td>23.672855</td>\n",
              "    </tr>\n",
              "  </tbody>\n",
              "</table>\n",
              "</div>"
            ],
            "text/plain": [
              "    Data        R2       RMSE\n",
              "0  train -5.172720  23.396740\n",
              "1   test -7.002669  23.672855"
            ]
          },
          "metadata": {
            "tags": []
          },
          "execution_count": 106
        }
      ]
    },
    {
      "cell_type": "markdown",
      "metadata": {
        "id": "7D1tmv9eTZCK"
      },
      "source": [
        "Le lasso utilise la norme ℓ1 du vecteur β comme régularisateur pour obtenir un modèle parcimonieux.\r\n",
        "\r\n",
        "Le lasso peut donc être utilisé comme un algorithme de réduction de dimension supervisée.\r\n",
        "\r\n",
        "Le lasso n'a pas de solution explicite, ni nécessairement unique.\r\n",
        "\r\n",
        "L'elastic net combine les normes ℓ1 et ℓ2 pour obtenir une solution moins parcimonieuse que le lasso, \r\n",
        "mais plus stable et dans laquelle toutes les variables corrélées pertinentes pour \r\n",
        "la prédiction de l'étiquette sont sélectionnées et reçoivent un poids identique."
      ]
    }
  ]
}